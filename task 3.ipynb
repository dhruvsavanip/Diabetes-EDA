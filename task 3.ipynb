{
 "cells": [
  {
   "cell_type": "code",
   "execution_count": 2,
   "id": "20dbb65b",
   "metadata": {},
   "outputs": [],
   "source": [
    "import pandas as pd\n",
    "import numpy as np \n",
    "import matplotlib.pyplot as plt"
   ]
  },
  {
   "cell_type": "code",
   "execution_count": 3,
   "id": "618699cc",
   "metadata": {},
   "outputs": [
    {
     "data": {
      "text/html": [
       "<div>\n",
       "<style scoped>\n",
       "    .dataframe tbody tr th:only-of-type {\n",
       "        vertical-align: middle;\n",
       "    }\n",
       "\n",
       "    .dataframe tbody tr th {\n",
       "        vertical-align: top;\n",
       "    }\n",
       "\n",
       "    .dataframe thead th {\n",
       "        text-align: right;\n",
       "    }\n",
       "</style>\n",
       "<table border=\"1\" class=\"dataframe\">\n",
       "  <thead>\n",
       "    <tr style=\"text-align: right;\">\n",
       "      <th></th>\n",
       "      <th>Pregnancies</th>\n",
       "      <th>Glucose</th>\n",
       "      <th>BloodPressure</th>\n",
       "      <th>SkinThickness</th>\n",
       "      <th>Insulin</th>\n",
       "      <th>BMI</th>\n",
       "      <th>DiabetesPedigreeFunction</th>\n",
       "      <th>Age</th>\n",
       "      <th>Outcome</th>\n",
       "    </tr>\n",
       "  </thead>\n",
       "  <tbody>\n",
       "    <tr>\n",
       "      <th>0</th>\n",
       "      <td>6</td>\n",
       "      <td>148</td>\n",
       "      <td>72</td>\n",
       "      <td>35</td>\n",
       "      <td>0</td>\n",
       "      <td>33.6</td>\n",
       "      <td>0.627</td>\n",
       "      <td>50</td>\n",
       "      <td>1</td>\n",
       "    </tr>\n",
       "    <tr>\n",
       "      <th>1</th>\n",
       "      <td>1</td>\n",
       "      <td>85</td>\n",
       "      <td>66</td>\n",
       "      <td>29</td>\n",
       "      <td>0</td>\n",
       "      <td>26.6</td>\n",
       "      <td>0.351</td>\n",
       "      <td>31</td>\n",
       "      <td>0</td>\n",
       "    </tr>\n",
       "    <tr>\n",
       "      <th>2</th>\n",
       "      <td>8</td>\n",
       "      <td>183</td>\n",
       "      <td>64</td>\n",
       "      <td>0</td>\n",
       "      <td>0</td>\n",
       "      <td>23.3</td>\n",
       "      <td>0.672</td>\n",
       "      <td>32</td>\n",
       "      <td>1</td>\n",
       "    </tr>\n",
       "    <tr>\n",
       "      <th>3</th>\n",
       "      <td>1</td>\n",
       "      <td>89</td>\n",
       "      <td>66</td>\n",
       "      <td>23</td>\n",
       "      <td>94</td>\n",
       "      <td>28.1</td>\n",
       "      <td>0.167</td>\n",
       "      <td>21</td>\n",
       "      <td>0</td>\n",
       "    </tr>\n",
       "    <tr>\n",
       "      <th>4</th>\n",
       "      <td>0</td>\n",
       "      <td>137</td>\n",
       "      <td>40</td>\n",
       "      <td>35</td>\n",
       "      <td>168</td>\n",
       "      <td>43.1</td>\n",
       "      <td>2.288</td>\n",
       "      <td>33</td>\n",
       "      <td>1</td>\n",
       "    </tr>\n",
       "  </tbody>\n",
       "</table>\n",
       "</div>"
      ],
      "text/plain": [
       "   Pregnancies  Glucose  BloodPressure  SkinThickness  Insulin   BMI  \\\n",
       "0            6      148             72             35        0  33.6   \n",
       "1            1       85             66             29        0  26.6   \n",
       "2            8      183             64              0        0  23.3   \n",
       "3            1       89             66             23       94  28.1   \n",
       "4            0      137             40             35      168  43.1   \n",
       "\n",
       "   DiabetesPedigreeFunction  Age  Outcome  \n",
       "0                     0.627   50        1  \n",
       "1                     0.351   31        0  \n",
       "2                     0.672   32        1  \n",
       "3                     0.167   21        0  \n",
       "4                     2.288   33        1  "
      ]
     },
     "execution_count": 3,
     "metadata": {},
     "output_type": "execute_result"
    }
   ],
   "source": [
    "df = pd.read_csv(\"diabetes - diabetes.csv\")\n",
    "df.head()"
   ]
  },
  {
   "cell_type": "code",
   "execution_count": 4,
   "id": "bc883f51",
   "metadata": {},
   "outputs": [
    {
     "data": {
      "text/plain": [
       "Pregnancies                 0\n",
       "Glucose                     0\n",
       "BloodPressure               0\n",
       "SkinThickness               0\n",
       "Insulin                     0\n",
       "BMI                         0\n",
       "DiabetesPedigreeFunction    0\n",
       "Age                         0\n",
       "Outcome                     0\n",
       "dtype: int64"
      ]
     },
     "execution_count": 4,
     "metadata": {},
     "output_type": "execute_result"
    }
   ],
   "source": [
    "pd.isnull(df).sum()"
   ]
  },
  {
   "cell_type": "code",
   "execution_count": 5,
   "id": "b9b71aee",
   "metadata": {},
   "outputs": [
    {
     "name": "stdout",
     "output_type": "stream",
     "text": [
      "3.8450520833333335\n"
     ]
    }
   ],
   "source": [
    "defe = df['Pregnancies'].mean()\n",
    "print(defe)"
   ]
  },
  {
   "cell_type": "code",
   "execution_count": 6,
   "id": "a9bf5d39",
   "metadata": {},
   "outputs": [
    {
     "name": "stdout",
     "output_type": "stream",
     "text": [
      "120.89453125\n"
     ]
    }
   ],
   "source": [
    "defe = df['Glucose'].mean()\n",
    "print(defe)"
   ]
  },
  {
   "cell_type": "code",
   "execution_count": 8,
   "id": "45f41843",
   "metadata": {},
   "outputs": [
    {
     "data": {
      "image/png": "[encoded data removed]",
      "text/plain": [
       "<Figure size 640x480 with 1 Axes>"
      ]
     },
     "metadata": {},
     "output_type": "display_data"
    }
   ],
   "source": [
    "plt.boxplot(df['BloodPressure'])\n",
    "plt.title('Box Plot of Blood Pressure Values')\n",
    "plt.ylabel('Blood Pressure (mmHg)')\n",
    "plt.show()"
   ]
  },
  {
   "cell_type": "code",
   "execution_count": 9,
   "id": "4f226196",
   "metadata": {
    "scrolled": true
   },
   "outputs": [
    {
     "name": "stdout",
     "output_type": "stream",
     "text": [
      "The mode of the SkinThickness column is: 0\n"
     ]
    }
   ],
   "source": [
    "skin_thickness_mode = df['SkinThickness'].mode()\n",
    "if len(skin_thickness_mode) > 0:\n",
    "    print(\"The mode of the SkinThickness column is:\", skin_thickness_mode.values[0])\n",
    "else:\n",
    "    print(\"No mode found for the SkinThickness column.\")"
   ]
  },
  {
   "cell_type": "code",
   "execution_count": 10,
   "id": "879dc9f4",
   "metadata": {},
   "outputs": [
    {
     "name": "stdout",
     "output_type": "stream",
     "text": [
      "79.79947916666667\n"
     ]
    }
   ],
   "source": [
    "insulin_levels = df['Insulin']\n",
    "mean_insulin = insulin_levels.mean()\n",
    "print(mean_insulin)"
   ]
  },
  {
   "cell_type": "code",
   "execution_count": 12,
   "id": "ad361b7b",
   "metadata": {},
   "outputs": [
    {
     "name": "stdout",
     "output_type": "stream",
     "text": [
      "Median Insulin Level: 30.5\n"
     ]
    }
   ],
   "source": [
    "median_insulin = insulin_levels.median()\n",
    "print(\"Median Insulin Level:\", median_insulin)"
   ]
  },
  {
   "cell_type": "code",
   "execution_count": 13,
   "id": "288b66bc",
   "metadata": {},
   "outputs": [
    {
     "name": "stdout",
     "output_type": "stream",
     "text": [
      "The mode of the SkinThickness column is: 0\n"
     ]
    }
   ],
   "source": [
    "insulin_levels = df['Insulin'].mode()\n",
    "if len(insulin_levels) > 0:\n",
    "    print(\"The mode of the SkinThickness column is:\", insulin_levels.values[0])\n",
    "else:\n",
    "    print(\"No mode found for the SkinThickness column.\")"
   ]
  },
  {
   "cell_type": "code",
   "execution_count": 21,
   "id": "1bf16e12",
   "metadata": {},
   "outputs": [
    {
     "name": "stdout",
     "output_type": "stream",
     "text": [
      "Maximum BMI recorded: 67.1\n"
     ]
    }
   ],
   "source": [
    "max_bmi = df['BMI'].max()\n",
    "print(\"Maximum BMI recorded:\",max_bmi)"
   ]
  },
  {
   "cell_type": "code",
   "execution_count": 23,
   "id": "9d0392f5",
   "metadata": {},
   "outputs": [
    {
     "name": "stdout",
     "output_type": "stream",
     "text": [
      "Percentage of patients diagnosed with diabetes: 34.89583333333333\n"
     ]
    }
   ],
   "source": [
    "percentage_diabetic = (df['Outcome'].sum() / len(df)) * 100\n",
    "print(\"Percentage of patients diagnosed with diabetes:\",percentage_diabetic)"
   ]
  },
  {
   "cell_type": "code",
   "execution_count": 24,
   "id": "97001957",
   "metadata": {},
   "outputs": [
    {
     "name": "stdout",
     "output_type": "stream",
     "text": [
      "Minimum age of patients: 21\n"
     ]
    }
   ],
   "source": [
    "#Minimum age of patients in the dataset\n",
    "min_age = df['Age'].min()\n",
    "print(\"Minimum age of patients:\",min_age)"
   ]
  },
  {
   "cell_type": "code",
   "execution_count": 27,
   "id": "3e3195e6",
   "metadata": {},
   "outputs": [
    {
     "name": "stdout",
     "output_type": "stream",
     "text": [
      "Average blood pressure for non-diabetic patients 68.184\n"
     ]
    }
   ],
   "source": [
    "avg_blood_pressure_non_diabetic = df[df['Outcome'] == 0]['BloodPressure'].mean()\n",
    "print(\"Average blood pressure for non-diabetic patients\",avg_blood_pressure_non_diabetic)"
   ]
  },
  {
   "cell_type": "code",
   "execution_count": 28,
   "id": "bb01bda0",
   "metadata": {},
   "outputs": [
    {
     "name": "stdout",
     "output_type": "stream",
     "text": [
      "Count of patients with zero skin thickness: 227\n"
     ]
    }
   ],
   "source": [
    "count_zero_skin_thickness = (df['SkinThickness'] == 0).sum()\n",
    "print(\"Count of patients with zero skin thickness:\",count_zero_skin_thickness)"
   ]
  },
  {
   "cell_type": "code",
   "execution_count": 30,
   "id": "3a3320a3",
   "metadata": {},
   "outputs": [
    {
     "name": "stdout",
     "output_type": "stream",
     "text": [
      "Average age of diabetic patients: 37.06716417910448\n"
     ]
    }
   ],
   "source": [
    "avg_age_diabetic = df[df['Outcome'] == 1]['Age'].mean()\n",
    "print(\"Average age of diabetic patients:\",avg_age_diabetic)\n"
   ]
  },
  {
   "cell_type": "code",
   "execution_count": 31,
   "id": "066e1f9b",
   "metadata": {},
   "outputs": [
    {
     "name": "stdout",
     "output_type": "stream",
     "text": [
      "Maximum glucose level recorded: 199\n"
     ]
    }
   ],
   "source": [
    "defe = df['Glucose'].max()\n",
    "print(\"Maximum glucose level recorded:\",defe)"
   ]
  },
  {
   "cell_type": "code",
   "execution_count": 32,
   "id": "ea2340e1",
   "metadata": {},
   "outputs": [
    {
     "name": "stdout",
     "output_type": "stream",
     "text": [
      "Average skin thickness for diabetic patients: 22.16417910447761\n"
     ]
    }
   ],
   "source": [
    "avg_skin_thickness_diabetic = df[df['Outcome'] == 1]['SkinThickness'].mean()\n",
    "print(\"Average skin thickness for diabetic patients:\",avg_skin_thickness_diabetic)"
   ]
  },
  {
   "cell_type": "code",
   "execution_count": 33,
   "id": "a5ef3697",
   "metadata": {},
   "outputs": [
    {
     "name": "stdout",
     "output_type": "stream",
     "text": [
      "Count of patients with BMI greater than 30: 465\n"
     ]
    }
   ],
   "source": [
    "count_bmi_above_30 = (df['BMI'] > 30).sum()\n",
    "print(\"Count of patients with BMI greater than 30:\",count_bmi_above_30)"
   ]
  },
  {
   "cell_type": "code",
   "execution_count": 34,
   "id": "8f816c90",
   "metadata": {},
   "outputs": [
    {
     "name": "stdout",
     "output_type": "stream",
     "text": [
      "Average glucose level for diabetic patients: 141.25746268656715\n"
     ]
    }
   ],
   "source": [
    "avg_glucose_diabetic = df[df['Outcome'] == 1]['Glucose'].mean()\n",
    "print(\"Average glucose level for diabetic patients:\",avg_glucose_diabetic)"
   ]
  },
  {
   "cell_type": "code",
   "execution_count": 35,
   "id": "910db8fc",
   "metadata": {},
   "outputs": [
    {
     "name": "stdout",
     "output_type": "stream",
     "text": [
      "Average pregnancies for non-diabetic patients: 3.298\n"
     ]
    }
   ],
   "source": [
    "avg_preg_non_diabetic = df[df['Outcome'] == 0]['Pregnancies'].mean()\n",
    "print(\"Average pregnancies for non-diabetic patients:\",avg_preg_non_diabetic)\n"
   ]
  },
  {
   "cell_type": "code",
   "execution_count": 36,
   "id": "3954437d",
   "metadata": {},
   "outputs": [
    {
     "name": "stdout",
     "output_type": "stream",
     "text": [
      "Average blood pressure for diabetic patients: 70.82462686567165\n"
     ]
    }
   ],
   "source": [
    "avg_blood_pressure_diabetic = df[df['Outcome'] == 1]['BloodPressure'].mean()\n",
    "print(\"Average blood pressure for diabetic patients:\",avg_blood_pressure_diabetic)\n"
   ]
  },
  {
   "cell_type": "code",
   "execution_count": 37,
   "id": "1d2fda72",
   "metadata": {},
   "outputs": [
    {
     "name": "stdout",
     "output_type": "stream",
     "text": [
      "Count of patients with insulin level greater than 100: 243\n"
     ]
    }
   ],
   "source": [
    "count_insulin_above_100 = (df['Insulin'] > 100).sum()\n",
    "print(\"Count of patients with insulin level greater than 100:\",count_insulin_above_100)"
   ]
  },
  {
   "cell_type": "code",
   "execution_count": 38,
   "id": "70225804",
   "metadata": {},
   "outputs": [
    {
     "name": "stdout",
     "output_type": "stream",
     "text": [
      "IQR (Interquartile Range): 127.25\n"
     ]
    }
   ],
   "source": [
    "Q1 = df['Insulin'].quantile(0.25)\n",
    "Q3 = df['Insulin'].quantile(0.75)\n",
    "IQR = Q3 - Q1\n",
    "print(\"IQR (Interquartile Range):\", IQR)"
   ]
  },
  {
   "cell_type": "code",
   "execution_count": 39,
   "id": "e6d3cb85",
   "metadata": {},
   "outputs": [
    {
     "name": "stdout",
     "output_type": "stream",
     "text": [
      "IQR (Interquartile Range): 41.25\n"
     ]
    }
   ],
   "source": [
    "Q1 = df['Glucose'].quantile(0.25)\n",
    "Q3 = df['Glucose'].quantile(0.75)\n",
    "IQR = Q3 - Q1\n",
    "print(\"IQR (Interquartile Range):\", IQR)"
   ]
  },
  {
   "cell_type": "code",
   "execution_count": 40,
   "id": "32862e0d",
   "metadata": {},
   "outputs": [
    {
     "name": "stdout",
     "output_type": "stream",
     "text": [
      "IQR (Interquartile Range): 18.0\n"
     ]
    }
   ],
   "source": [
    "Q1 = df['BloodPressure'].quantile(0.25)\n",
    "Q3 = df['BloodPressure'].quantile(0.75)\n",
    "IQR = Q3 - Q1\n",
    "print(\"IQR (Interquartile Range):\", IQR)"
   ]
  },
  {
   "cell_type": "code",
   "execution_count": 41,
   "id": "390982a6",
   "metadata": {},
   "outputs": [
    {
     "name": "stdout",
     "output_type": "stream",
     "text": [
      "IQR (Interquartile Range): 32.0\n"
     ]
    }
   ],
   "source": [
    "Q1 = df['SkinThickness'].quantile(0.25)\n",
    "Q3 = df['SkinThickness'].quantile(0.75)\n",
    "IQR = Q3 - Q1\n",
    "print(\"IQR (Interquartile Range):\", IQR)"
   ]
  },
  {
   "cell_type": "code",
   "execution_count": 42,
   "id": "b15f91ae",
   "metadata": {},
   "outputs": [
    {
     "name": "stdout",
     "output_type": "stream",
     "text": [
      "IQR (Interquartile Range): 9.3\n"
     ]
    }
   ],
   "source": [
    "Q1 = df['BMI'].quantile(0.25)\n",
    "Q3 = df['BMI'].quantile(0.75)\n",
    "IQR = Q3 - Q1\n",
    "print(\"IQR (Interquartile Range):\", IQR)"
   ]
  },
  {
   "cell_type": "code",
   "execution_count": null,
   "id": "75afdd13",
   "metadata": {},
   "outputs": [],
   "source": []
  }
 ],
 "metadata": {
  "kernelspec": {
   "display_name": "Python 3 (ipykernel)",
   "language": "python",
   "name": "python3"
  },
  "language_info": {
   "codemirror_mode": {
    "name": "ipython",
    "version": 3
   },
   "file_extension": ".py",
   "mimetype": "text/x-python",
   "name": "python",
   "nbconvert_exporter": "python",
   "pygments_lexer": "ipython3",
   "version": "3.11.5"
  }
 },
 "nbformat": 4,
 "nbformat_minor": 5
}
